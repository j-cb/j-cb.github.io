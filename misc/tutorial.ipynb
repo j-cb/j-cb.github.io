{
 "cells": [
  {
   "cell_type": "markdown",
   "metadata": {},
   "source": [
    "### Preparations: Create Demo Files\n",
    "The following cell is not for documentation; it just creates the external files that will be used for demonstration purposes"
   ]
  },
  {
   "cell_type": "code",
   "execution_count": 1,
   "metadata": {},
   "outputs": [],
   "source": [
    "file1 = open('wprogram.py', 'w')\n",
    "file1.write('print(\"Hi, I am a program!\")')\n",
    "file1.close()\n",
    "file2 = open('wfunctions.py','w')\n",
    "file2.write(\"import numpy as np \\ndef fun1(arr): \\n  result = np.sum(arr) + 100 \\n  return result\")\n",
    "file2.close()"
   ]
  },
  {
   "cell_type": "markdown",
   "metadata": {},
   "source": [
    "# Tutorial on Basic Jupyter Commands"
   ]
  },
  {
   "cell_type": "code",
   "execution_count": 2,
   "metadata": {},
   "outputs": [
    {
     "data": {
      "text/plain": [
       "7"
      ]
     },
     "execution_count": 2,
     "metadata": {},
     "output_type": "execute_result"
    }
   ],
   "source": [
    "4 + 3 #test if Python works"
   ]
  },
  {
   "cell_type": "code",
   "execution_count": 3,
   "metadata": {
    "slideshow": {
     "slide_type": "slide"
    }
   },
   "outputs": [],
   "source": [
    "import numpy as np #Import modules as usual."
   ]
  },
  {
   "cell_type": "markdown",
   "metadata": {},
   "source": [
    "In an actual working document, it is good style to do all the imports in one place at the beginning."
   ]
  },
  {
   "cell_type": "code",
   "execution_count": 4,
   "metadata": {
    "slideshow": {
     "slide_type": "subslide"
    }
   },
   "outputs": [],
   "source": [
    "from wfunctions import fun1 #wfunctions is the .py file that was created as preparation."
   ]
  },
  {
   "cell_type": "code",
   "execution_count": 5,
   "metadata": {},
   "outputs": [],
   "source": [
    "a = np.array([1,2,3]) #As everything, this array will usually be there until you restart the kernel. (even if you delete this cell)"
   ]
  },
  {
   "cell_type": "code",
   "execution_count": 6,
   "metadata": {},
   "outputs": [
    {
     "name": "stdout",
     "output_type": "stream",
     "text": [
      "106\n"
     ]
    }
   ],
   "source": [
    "print(fun1(a))"
   ]
  },
  {
   "cell_type": "markdown",
   "metadata": {},
   "source": [
    "*** \n",
    "Now you should open the file wfunctions.py and change it; for example replace 100 by 100000. Then run the above `print` cell again. You will see that it does not change."
   ]
  },
  {
   "cell_type": "code",
   "execution_count": 7,
   "metadata": {
    "slideshow": {
     "slide_type": "slide"
    }
   },
   "outputs": [],
   "source": [
    "%load_ext autoreload\n",
    "%autoreload 2 #With this command, whenever you make changes in an imported module, will be immediately effective.\n",
    "#Without autoreload, even re-execting the import command will not be enough. "
   ]
  },
  {
   "cell_type": "markdown",
   "metadata": {},
   "source": [
    "Again, run the above `print` cell. Right now, it still gives the same output. For some reason, you have to save the .py file again.\n",
    "Do that and do the print one last time. Now it should have changed.\n",
    "If you invoke this right at the beginning of working in the notebook, all your changes in imported files are automatically loaded.\n",
    "***"
   ]
  },
  {
   "cell_type": "code",
   "execution_count": 8,
   "metadata": {},
   "outputs": [
    {
     "name": "stdout",
     "output_type": "stream",
     "text": [
      "Hi, I am a program!\n"
     ]
    }
   ],
   "source": [
    "%run wprogram.py #running external programs"
   ]
  },
  {
   "cell_type": "markdown",
   "metadata": {},
   "source": [
    "## Plotting"
   ]
  },
  {
   "cell_type": "code",
   "execution_count": 9,
   "metadata": {},
   "outputs": [],
   "source": [
    "import matplotlib.pyplot as plt #matplotlib is well supported by jupyter\n",
    "%matplotlib inline \n",
    "#Using this command is often recommended, but might be legacy from IPython days.\n",
    "plt.rcParams['figure.figsize'] = [17, 2] #A useful matplotlib command for setting the size of plots and shown images."
   ]
  },
  {
   "cell_type": "code",
   "execution_count": 10,
   "metadata": {},
   "outputs": [],
   "source": [
    "xvals = np.arange(0,10,.1)\n",
    "yvals = np.sin(xvals)"
   ]
  },
  {
   "cell_type": "code",
   "execution_count": 11,
   "metadata": {},
   "outputs": [
    {
     "data": {
      "image/png": "[encoded data removed]",
      "text/plain": [
       "<Figure size 432x288 with 1 Axes>"
      ]
     },
     "metadata": {},
     "output_type": "display_data"
    }
   ],
   "source": [
    "plt.plot(xvals,yvals)\n",
    "plt.savefig('sinewave') #saves the plot in the same folder, per default as .png\n",
    "#plt.show() is not really necessary in current versions "
   ]
  },
  {
   "cell_type": "code",
   "execution_count": 12,
   "metadata": {},
   "outputs": [
    {
     "data": {
      "text/plain": [
       "[<matplotlib.lines.Line2D at 0x7f612b0>]"
      ]
     },
     "execution_count": 12,
     "metadata": {},
     "output_type": "execute_result"
    },
    {
     "data": {
      "image/png": "[encoded data removed]",
      "text/plain": [
       "<Figure size 216x216 with 1 Axes>"
      ]
     },
     "metadata": {},
     "output_type": "display_data"
    }
   ],
   "source": [
    "plt.figure(figsize=[3,3]) #An alternative to the above rcParams for this single plot should be more stable and better exportable\n",
    "plt.plot(xvals,yvals)"
   ]
  },
  {
   "cell_type": "markdown",
   "metadata": {},
   "source": [
    "## Magic"
   ]
  },
  {
   "cell_type": "code",
   "execution_count": 13,
   "metadata": {},
   "outputs": [
    {
     "name": "stdout",
     "output_type": "stream",
     "text": [
      "a\t file1\t file2\t fun1\t np\t plt\t xvals\t yvals\t \n"
     ]
    }
   ],
   "source": [
    "%who"
   ]
  },
  {
   "cell_type": "markdown",
   "metadata": {},
   "source": [
    "There are many of those *magics*, i.e. percentage-sign commands: __http://ipython.readthedocs.io/en/stable/interactive/magics.html__"
   ]
  },
  {
   "cell_type": "code",
   "execution_count": 14,
   "metadata": {},
   "outputs": [
    {
     "name": "stdout",
     "output_type": "stream",
     "text": [
      "32.6 µs ± 637 ns per loop (mean ± std. dev. of 3 runs, 10000 loops each)\n"
     ]
    }
   ],
   "source": [
    "%%timeit -r 3 #This record the execution time of the code in this cell. Very useful for implementing algorithm speedups.\n",
    "s = 0\n",
    "s += sum(range(1000))"
   ]
  },
  {
   "cell_type": "markdown",
   "metadata": {},
   "source": [
    "***\n",
    "If you don't want to use a command line, you can do almost everything within your notebook."
   ]
  },
  {
   "cell_type": "code",
   "execution_count": 15,
   "metadata": {},
   "outputs": [],
   "source": [
    "import sys"
   ]
  },
  {
   "cell_type": "code",
   "execution_count": 16,
   "metadata": {},
   "outputs": [
    {
     "name": "stdout",
     "output_type": "stream",
     "text": [
      "Requirement already satisfied: numpy in c:\\python36\\lib\\site-packages (1.14.5+mkl)\n"
     ]
    }
   ],
   "source": [
    "!{sys.executable} -m  pip install numpy"
   ]
  },
  {
   "cell_type": "markdown",
   "metadata": {},
   "source": [
    "## Other useful things"
   ]
  },
  {
   "cell_type": "code",
   "execution_count": 17,
   "metadata": {},
   "outputs": [
    {
     "data": {
      "text/plain": [
       "\u001b[1;31mSignature:\u001b[0m \u001b[0mnp\u001b[0m\u001b[1;33m.\u001b[0m\u001b[0mcopy\u001b[0m\u001b[1;33m(\u001b[0m\u001b[0ma\u001b[0m\u001b[1;33m,\u001b[0m \u001b[0morder\u001b[0m\u001b[1;33m=\u001b[0m\u001b[1;34m'K'\u001b[0m\u001b[1;33m)\u001b[0m\u001b[1;33m\u001b[0m\u001b[0m\n",
       "\u001b[1;31mDocstring:\u001b[0m\n",
       "Return an array copy of the given object.\n",
       "\n",
       "Parameters\n",
       "----------\n",
       "a : array_like\n",
       "    Input data.\n",
       "order : {'C', 'F', 'A', 'K'}, optional\n",
       "    Controls the memory layout of the copy. 'C' means C-order,\n",
       "    'F' means F-order, 'A' means 'F' if `a` is Fortran contiguous,\n",
       "    'C' otherwise. 'K' means match the layout of `a` as closely\n",
       "    as possible. (Note that this function and :meth:`ndarray.copy` are very\n",
       "    similar, but have different default values for their order=\n",
       "    arguments.)\n",
       "\n",
       "Returns\n",
       "-------\n",
       "arr : ndarray\n",
       "    Array interpretation of `a`.\n",
       "\n",
       "Notes\n",
       "-----\n",
       "This is equivalent to:\n",
       "\n",
       ">>> np.array(a, copy=True)  #doctest: +SKIP\n",
       "\n",
       "Examples\n",
       "--------\n",
       "Create an array x, with a reference y and a copy z:\n",
       "\n",
       ">>> x = np.array([1, 2, 3])\n",
       ">>> y = x\n",
       ">>> z = np.copy(x)\n",
       "\n",
       "Note that, when we modify x, y changes, but not z:\n",
       "\n",
       ">>> x[0] = 10\n",
       ">>> x[0] == y[0]\n",
       "True\n",
       ">>> x[0] == z[0]\n",
       "False\n",
       "\u001b[1;31mFile:\u001b[0m      c:\\python36\\lib\\site-packages\\numpy\\lib\\function_base.py\n",
       "\u001b[1;31mType:\u001b[0m      function\n"
      ]
     },
     "metadata": {},
     "output_type": "display_data"
    }
   ],
   "source": [
    "?np.copy #use the question mark to show the docstring"
   ]
  },
  {
   "cell_type": "code",
   "execution_count": 18,
   "metadata": {},
   "outputs": [
    {
     "data": {
      "text/plain": [
       "'%.100f'"
      ]
     },
     "execution_count": 18,
     "metadata": {},
     "output_type": "execute_result"
    }
   ],
   "source": [
    "%precision 100\n",
    "#seems as if it does not always work with print"
   ]
  },
  {
   "cell_type": "code",
   "execution_count": 19,
   "metadata": {},
   "outputs": [
    {
     "data": {
      "text/plain": [
       "3.1415926535897931159979634685441851615905761718750000000000000000000000000000000000000000000000000000"
      ]
     },
     "execution_count": 19,
     "metadata": {},
     "output_type": "execute_result"
    }
   ],
   "source": [
    "np.pi"
   ]
  },
  {
   "cell_type": "code",
   "execution_count": 20,
   "metadata": {},
   "outputs": [
    {
     "name": "stdout",
     "output_type": "stream",
     "text": [
      "3.141592653589793\n"
     ]
    }
   ],
   "source": [
    "print(np.pi)"
   ]
  },
  {
   "cell_type": "raw",
   "metadata": {},
   "source": [
    "A final tip: Apart from Code (y) and Markdown (m), you can also put cells into raw mode (r).\n",
    "This is a good way to comment out a whole cell."
   ]
  }
 ],
 "metadata": {
  "kernelspec": {
   "display_name": "Python 3",
   "language": "python",
   "name": "python3"
  },
  "language_info": {
   "codemirror_mode": {
    "name": "ipython",
    "version": 3
   },
   "file_extension": ".py",
   "mimetype": "text/x-python",
   "name": "python",
   "nbconvert_exporter": "python",
   "pygments_lexer": "ipython3",
   "version": "3.6.0"
  }
 },
 "nbformat": 4,
 "nbformat_minor": 2
}
